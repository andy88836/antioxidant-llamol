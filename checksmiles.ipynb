{
 "cells": [
  {
   "cell_type": "code",
   "execution_count": 1,
   "metadata": {},
   "outputs": [
    {
     "name": "stdout",
     "output_type": "stream",
     "text": [
      "Validity ratio: 100.00%\n"
     ]
    }
   ],
   "source": [
    "from rdkit import Chem\n",
    "import pandas as pd\n",
    "\n",
    "# Function to check validity of SMILES\n",
    "def check_smiles_validity(smiles_list):\n",
    "    valid_count = 0\n",
    "    total_count = len(smiles_list)\n",
    "    \n",
    "    for smiles in smiles_list:\n",
    "        if Chem.MolFromSmiles(smiles):  # Check if SMILES can be parsed into a molecule\n",
    "            valid_count += 1\n",
    "    \n",
    "    validity_ratio = valid_count / total_count\n",
    "    return validity_ratio\n",
    "\n",
    "data = pd.read_csv(r'D:\\llamol\\generate_output\\2024-10-17_19-52-52_generated_molecules_with_properties_unconditional.csv')\n",
    "# Extract the smiles from the generated dataset\n",
    "generated_smiles = data['SMILES'].tolist()\n",
    "\n",
    "# Calculate the validity ratio for generated SMILES\n",
    "validity_ratio = check_smiles_validity(generated_smiles)\n",
    "\n",
    "print(f\"Validity ratio: {validity_ratio:.2%}\")\n"
   ]
  },
  {
   "cell_type": "code",
   "execution_count": 2,
   "metadata": {},
   "outputs": [
    {
     "name": "stdout",
     "output_type": "stream",
     "text": [
      "Collecting openpyxl\n",
      "  Using cached openpyxl-3.1.5-py2.py3-none-any.whl.metadata (2.5 kB)\n",
      "Collecting et-xmlfile (from openpyxl)\n",
      "  Downloading et_xmlfile-1.1.0-py3-none-any.whl.metadata (1.8 kB)\n",
      "Downloading openpyxl-3.1.5-py2.py3-none-any.whl (250 kB)\n",
      "Downloading et_xmlfile-1.1.0-py3-none-any.whl (4.7 kB)\n",
      "Installing collected packages: et-xmlfile, openpyxl\n",
      "Successfully installed et-xmlfile-1.1.0 openpyxl-3.1.5\n",
      "Note: you may need to restart the kernel to use updated packages.\n"
     ]
    }
   ],
   "source": [
    "pip install openpyxl\n"
   ]
  },
  {
   "cell_type": "code",
   "execution_count": null,
   "metadata": {},
   "outputs": [],
   "source": [
    "# It seems there is an extra space in the ' logp' column name, let's clean the column names and try again\n",
    "\n",
    "# Strip whitespace from column names in the generated dataset\n",
    "generated_df.columns = generated_df.columns.str.strip()\n",
    "\n",
    "# Extract the relevant columns again\n",
    "generated_data = generated_df[generated_columns]\n",
    "\n",
    "# Convert the smiles columns to sets for the comparison and calculate the ratios\n",
    "original_smiles_set = set(original_data['smiles'])\n",
    "generated_smiles_set = set(generated_data['smiles'])\n",
    "\n",
    "# 1. Calculate the proportion of generated smiles not in the original dataset\n",
    "unique_generated_smiles = generated_smiles_set - original_smiles_set\n",
    "unique_ratio = len(unique_generated_smiles) / len(generated_smiles_set)\n",
    "\n",
    "# 2. Calculate the proportion of unique smiles in the generated dataset\n",
    "non_duplicate_generated_ratio = len(generated_smiles_set) / len(generated_data['smiles'])\n",
    "\n",
    "(unique_ratio, non_duplicate_generated_ratio)\n",
    "\n"
   ]
  },
  {
   "cell_type": "code",
   "execution_count": 1,
   "metadata": {},
   "outputs": [
    {
     "data": {
      "text/html": [
       "<div>\n",
       "<style scoped>\n",
       "    .dataframe tbody tr th:only-of-type {\n",
       "        vertical-align: middle;\n",
       "    }\n",
       "\n",
       "    .dataframe tbody tr th {\n",
       "        vertical-align: top;\n",
       "    }\n",
       "\n",
       "    .dataframe thead th {\n",
       "        text-align: right;\n",
       "    }\n",
       "</style>\n",
       "<table border=\"1\" class=\"dataframe\">\n",
       "  <thead>\n",
       "    <tr style=\"text-align: right;\">\n",
       "      <th></th>\n",
       "      <th>SMILES</th>\n",
       "      <th>logP</th>\n",
       "      <th>SAScore</th>\n",
       "      <th>Unnamed: 3</th>\n",
       "    </tr>\n",
       "  </thead>\n",
       "  <tbody>\n",
       "    <tr>\n",
       "      <th>0</th>\n",
       "      <td>Cc1c(C)c2c(c(C)c1O)CCC(C)(C(=O)NCCS)O2</td>\n",
       "      <td>2</td>\n",
       "      <td>4</td>\n",
       "      <td>N/A</td>\n",
       "    </tr>\n",
       "    <tr>\n",
       "      <th>1</th>\n",
       "      <td>Cc1cc(O)cc(O)c1C(=O)O</td>\n",
       "      <td>2</td>\n",
       "      <td>2</td>\n",
       "      <td>N/A</td>\n",
       "    </tr>\n",
       "    <tr>\n",
       "      <th>2</th>\n",
       "      <td>COc1cc(CCCO)ccc1O[C@H](CO)[C@@H](O)c1ccc(O)cc1</td>\n",
       "      <td>2</td>\n",
       "      <td>3</td>\n",
       "      <td>N/A</td>\n",
       "    </tr>\n",
       "    <tr>\n",
       "      <th>3</th>\n",
       "      <td>CCc1ccc2[nH]c3c(c2c1)CCNC3c1cc(C)c(O)c(O)c1</td>\n",
       "      <td>4</td>\n",
       "      <td>3</td>\n",
       "      <td>N/A</td>\n",
       "    </tr>\n",
       "    <tr>\n",
       "      <th>4</th>\n",
       "      <td>Cc1cc(C(C)(C)C)c(O)c(C(C)(C)C)c1</td>\n",
       "      <td>6</td>\n",
       "      <td>2</td>\n",
       "      <td>N/A</td>\n",
       "    </tr>\n",
       "    <tr>\n",
       "      <th>...</th>\n",
       "      <td>...</td>\n",
       "      <td>...</td>\n",
       "      <td>...</td>\n",
       "      <td>...</td>\n",
       "    </tr>\n",
       "    <tr>\n",
       "      <th>955</th>\n",
       "      <td>Cc1c(O)c(C(=O)C(C)C)c(O)c2c1oc1c(C)c(O)c(C(=O...</td>\n",
       "      <td>4</td>\n",
       "      <td>3</td>\n",
       "      <td>N/A</td>\n",
       "    </tr>\n",
       "    <tr>\n",
       "      <th>956</th>\n",
       "      <td>CC(C)c1cc2c(c(O)c1O)[C@@]1(C=O)CCCC(C)(C)[C@@...</td>\n",
       "      <td>4</td>\n",
       "      <td>4</td>\n",
       "      <td>N/A</td>\n",
       "    </tr>\n",
       "    <tr>\n",
       "      <th>957</th>\n",
       "      <td>Cc1cc(O)c(C)c(O)c1</td>\n",
       "      <td>2</td>\n",
       "      <td>2</td>\n",
       "      <td>N/A</td>\n",
       "    </tr>\n",
       "    <tr>\n",
       "      <th>958</th>\n",
       "      <td>CCOC(=O)[C@@H]1CC(=O)c2sccc2[C@H]1c1cc(C)cc(O...</td>\n",
       "      <td>4</td>\n",
       "      <td>3</td>\n",
       "      <td>N/A</td>\n",
       "    </tr>\n",
       "    <tr>\n",
       "      <th>959</th>\n",
       "      <td>COC(=O)[C@@H](N)CC(=O)NCCOc1ccc(C2=[N+]([O-])...</td>\n",
       "      <td>2</td>\n",
       "      <td>4</td>\n",
       "      <td>N/A</td>\n",
       "    </tr>\n",
       "  </tbody>\n",
       "</table>\n",
       "<p>960 rows × 4 columns</p>\n",
       "</div>"
      ],
      "text/plain": [
       "                                                SMILES   logP   SAScore  \\\n",
       "0               Cc1c(C)c2c(c(C)c1O)CCC(C)(C(=O)NCCS)O2      2         4   \n",
       "1                                Cc1cc(O)cc(O)c1C(=O)O      2         2   \n",
       "2       COc1cc(CCCO)ccc1O[C@H](CO)[C@@H](O)c1ccc(O)cc1      2         3   \n",
       "3          CCc1ccc2[nH]c3c(c2c1)CCNC3c1cc(C)c(O)c(O)c1      4         3   \n",
       "4                     Cc1cc(C(C)(C)C)c(O)c(C(C)(C)C)c1      6         2   \n",
       "..                                                 ...    ...       ...   \n",
       "955   Cc1c(O)c(C(=O)C(C)C)c(O)c2c1oc1c(C)c(O)c(C(=O...      4         3   \n",
       "956   CC(C)c1cc2c(c(O)c1O)[C@@]1(C=O)CCCC(C)(C)[C@@...      4         4   \n",
       "957                                 Cc1cc(O)c(C)c(O)c1      2         2   \n",
       "958   CCOC(=O)[C@@H]1CC(=O)c2sccc2[C@H]1c1cc(C)cc(O...      4         3   \n",
       "959   COC(=O)[C@@H](N)CC(=O)NCCOc1ccc(C2=[N+]([O-])...      2         4   \n",
       "\n",
       "    Unnamed: 3  \n",
       "0          N/A  \n",
       "1          N/A  \n",
       "2          N/A  \n",
       "3          N/A  \n",
       "4          N/A  \n",
       "..         ...  \n",
       "955        N/A  \n",
       "956        N/A  \n",
       "957        N/A  \n",
       "958        N/A  \n",
       "959        N/A  \n",
       "\n",
       "[960 rows x 4 columns]"
      ]
     },
     "execution_count": 1,
     "metadata": {},
     "output_type": "execute_result"
    }
   ],
   "source": [
    "import pandas as pd\n",
    "data = pd.read_excel(r'根据片段生成.xlsx')\n",
    "data"
   ]
  },
  {
   "cell_type": "code",
   "execution_count": 2,
   "metadata": {},
   "outputs": [
    {
     "data": {
      "text/plain": [
       "0                Cc1c(C)c2c(c(C)c1O)CCC(C)(C(=O)NCCS)O2\n",
       "1                                 Cc1cc(O)cc(O)c1C(=O)O\n",
       "2        COc1cc(CCCO)ccc1O[C@H](CO)[C@@H](O)c1ccc(O)cc1\n",
       "3           CCc1ccc2[nH]c3c(c2c1)CCNC3c1cc(C)c(O)c(O)c1\n",
       "4                      Cc1cc(C(C)(C)C)c(O)c(C(C)(C)C)c1\n",
       "5                CC(=O)c1c(C)oc2c(C)c3oc(=O)cc(C)c3cc12\n",
       "6      CCO[C@@H](c1ccc(O)c(OC)c1)[C@@H](CO)Oc1c(OC)c...\n",
       "7      C/C(=C/CC/C(C)=C/CC/C(C)=C/C(=O)C/C(C)=C/Cc1c...\n",
       "8      COC(=O)[C@H](CS)NC(=O)/C=C/c1cc(C(C)(C)C)c(O)...\n",
       "9                                 Cc1cc(O)c(C(=O)O)cc1C\n",
       "10                     Cc1cc(C(C)(C)C)c(O)c(C(C)(C)C)c1\n",
       "11     COC(=O)[C@H](CSC(=O)/C(=C/c1ccc2c(c1)OCO2)OC(...\n",
       "12     CCOC(=O)[C@@H]1CC(=O)c2sccc2[C@H]1c1cc(C)cc(O...\n",
       "13        Cc1cc(C)c(OC(=O)c2cccc([N+](=O)[O-])c2)c(C)c1\n",
       "14                               Cc1cc(O)c(C(=O)O)cc1Cl\n",
       "15     COC(=O)[C@H](Cc1c[nH]c2ccccc12)NC1=C(C)C(=O)C...\n",
       "16                Cc1ccc(C(=O)/C=C/c2ccc(C(C)C)cc2O)cc1\n",
       "17     C=CC(C)(C)c1[nH]c2c(CC=C(C)C)cc(C)c(O)c2c1/C=...\n",
       "18                    Cc1cc(C)c(OC(=O)CCc2ccccc2)c(C)c1\n",
       "19       C/C(=C/Cc1c(O)cc(C(=O)/C=C/c2ccc(O)cc2)cc1O)CO\n",
       "Name: SMILES, dtype: object"
      ]
     },
     "execution_count": 2,
     "metadata": {},
     "output_type": "execute_result"
    }
   ],
   "source": [
    "smiles = data['SMILES'][:20]\n",
    "smiles"
   ]
  },
  {
   "cell_type": "code",
   "execution_count": 7,
   "metadata": {},
   "outputs": [],
   "source": [
    "from rdkit.Chem import Draw\n",
    "from rdkit import Chem\n",
    "for smile in smiles:\n",
    "    mol = Chem.MolFromSmiles(smile)\n",
    "    Draw.MolToImage(mol, size=(150,150), kekulize=True)\n",
    "    Draw.ShowMol(mol, size=(150,150), kekulize=False)"
   ]
  },
  {
   "cell_type": "code",
   "execution_count": 2,
   "metadata": {},
   "outputs": [
    {
     "name": "stderr",
     "output_type": "stream",
     "text": [
      "C:\\Users\\PC\\AppData\\Local\\Temp\\ipykernel_31456\\3195778918.py:9: DtypeWarning: Columns (16,17,18,19,20,21,22,29,31,37,40,43,44,45) have mixed types. Specify dtype option on import or set low_memory=False.\n",
      "  df_new = pd.read_csv(file_path_2)\n"
     ]
    },
    {
     "name": "stdout",
     "output_type": "stream",
     "text": [
      "                                           smiles  logp   sascore  HBD\n",
      "0      COc1ccc(C2C=C(c3cccc4ccccc34)Nc3nncn32)cc1  4.50  3.126527    1\n",
      "1      COc1ccc(C2C=C(c3cccc4ccccc34)Nc3nncn32)cc1  4.50  3.126527    1\n",
      "2        c1coc(-c2cc(-c3cccc4ccccc34)nc3nncn23)c1  4.20  2.535435    0\n",
      "3        c1coc(-c2cc(-c3cccc4ccccc34)nc3nncn23)c1  4.20  2.535435    0\n",
      "4  CN(C)c1ccc(-c2cc(-c3cccc4ccccc34)nc3nncn23)cc1  4.68  2.449386    0\n"
     ]
    }
   ],
   "source": [
    "import pandas as pd\n",
    "\n",
    "# Load the original dataset\n",
    "file_path_1 = 'AODB-logp-HBD-sas-remove-toolongsmiles.csv'  # Update with your local file path\n",
    "df_original = pd.read_csv(file_path_1)\n",
    "\n",
    "# Load the new dataset with HBD values\n",
    "file_path_2 = 'D:\\MolGen-main\\AODB_antio_compounds.csv'  # Update with your local file path\n",
    "df_new = pd.read_csv(file_path_2)\n",
    "\n",
    "# Merge the two datasets on the 'SMILES' column to add the HBD values\n",
    "df_merged = pd.merge(df_original, df_new[['SMILES', 'HBD']], left_on='smiles', right_on='SMILES', how='left')\n",
    "\n",
    "# Drop the redundant 'SMILES' column after merging\n",
    "df_merged.drop(columns=['SMILES'], inplace=True)\n",
    "\n",
    "# Save the updated dataframe to a new CSV file\n",
    "df_merged.to_csv('AODB-logp-HBD-sas-remove-toolongsmiles-updated.csv', index=False)\n",
    "\n",
    "# Display the first few rows of the updated dataframe\n",
    "print(df_merged.head())"
   ]
  },
  {
   "cell_type": "code",
   "execution_count": 2,
   "metadata": {},
   "outputs": [
    {
     "data": {
      "text/plain": [
       "0.88768675940237"
      ]
     },
     "execution_count": 2,
     "metadata": {},
     "output_type": "execute_result"
    }
   ],
   "source": [
    "# Extract the SMILES columns from both datasets for comparison\n",
    "original_data = pd.read_csv(r'D:\\llamol\\AODB-logp-hbd-sas.csv')\n",
    "generated_data = pd.read_csv(r'D:\\llamol\\generate_output\\2024-10-17_19-52-52_generated_molecules_with_properties_unconditional.csv')\n",
    "original_smiles = original_data['SMILES'].astype(str)\n",
    "generated_smiles = generated_data['SMILES'].astype(str)\n",
    "\n",
    "# Find how many of the generated SMILES are not in the original dataset\n",
    "unique_generated_smiles = generated_smiles[~generated_smiles.isin(original_smiles)]\n",
    "\n",
    "# Calculate the proportion of unique generated molecules\n",
    "proportion_unique = len(unique_generated_smiles) / len(generated_smiles)\n",
    "\n",
    "proportion_unique\n"
   ]
  },
  {
   "cell_type": "code",
   "execution_count": 3,
   "metadata": {},
   "outputs": [
    {
     "data": {
      "text/plain": [
       "0.9891808346213292"
      ]
     },
     "execution_count": 3,
     "metadata": {},
     "output_type": "execute_result"
    }
   ],
   "source": [
    "# Calculate the proportion of unique molecules in the generated dataset\n",
    "unique_generated_count = generated_smiles.nunique()\n",
    "total_generated_count = len(generated_smiles)\n",
    "\n",
    "proportion_unique_generated = unique_generated_count / total_generated_count\n",
    "\n",
    "proportion_unique_generated\n"
   ]
  }
 ],
 "metadata": {
  "kernelspec": {
   "display_name": "torch2-llamol",
   "language": "python",
   "name": "python3"
  },
  "language_info": {
   "codemirror_mode": {
    "name": "ipython",
    "version": 3
   },
   "file_extension": ".py",
   "mimetype": "text/x-python",
   "name": "python",
   "nbconvert_exporter": "python",
   "pygments_lexer": "ipython3",
   "version": "3.8.20"
  }
 },
 "nbformat": 4,
 "nbformat_minor": 2
}
